{
 "cells": [
  {
   "cell_type": "code",
   "execution_count": 2,
   "metadata": {},
   "outputs": [],
   "source": [
    "from gensim import downloader as api\n",
    "wv = api.load('word2vec-google-news-300')"
   ]
  },
  {
   "cell_type": "markdown",
   "metadata": {},
   "source": [
    "##### Get Similar terms"
   ]
  },
  {
   "cell_type": "code",
   "execution_count": 10,
   "metadata": {},
   "outputs": [
    {
     "name": "stdout",
     "output_type": "stream",
     "text": [
      "word:0 of 3000000:</s>\n",
      "word:1 of 3000000:in\n",
      "word:2 of 3000000:for\n",
      "word:3 of 3000000:that\n",
      "word:4 of 3000000:is\n",
      "word:5 of 3000000:on\n",
      "word:6 of 3000000:##\n",
      "word:7 of 3000000:The\n",
      "word:8 of 3000000:with\n",
      "word:9 of 3000000:said\n"
     ]
    }
   ],
   "source": [
    "for index, word in enumerate(wv.index_to_key):\n",
    "    if index == 10:\n",
    "        break\n",
    "    print(\"word:{} of {}:{}\".format(index,len(wv.index_to_key),word))"
   ]
  },
  {
   "cell_type": "code",
   "execution_count": 13,
   "metadata": {},
   "outputs": [
    {
     "data": {
      "text/plain": [
       "300"
      ]
     },
     "execution_count": 13,
     "metadata": {},
     "output_type": "execute_result"
    }
   ],
   "source": [
    "len(wv.get_vector(\"car\"))"
   ]
  },
  {
   "cell_type": "code",
   "execution_count": 51,
   "metadata": {},
   "outputs": [
    {
     "data": {
      "text/plain": [
       "[('Jython', 0.6152505874633789),\n",
       " ('Perl_Python', 0.5710949897766113),\n",
       " ('IronPython', 0.5704679489135742),\n",
       " ('scripting_languages', 0.5695090889930725),\n",
       " ('PHP_Perl', 0.5687724947929382),\n",
       " ('Java_Python', 0.5681070685386658),\n",
       " ('PHP', 0.5660915970802307),\n",
       " ('Python_Ruby', 0.5632461905479431),\n",
       " ('Visual_Basic', 0.5603480339050293),\n",
       " ('Perl', 0.5530891418457031)]"
      ]
     },
     "execution_count": 51,
     "metadata": {},
     "output_type": "execute_result"
    }
   ],
   "source": [
    "wv.most_similar(\"Python\")"
   ]
  },
  {
   "cell_type": "code",
   "execution_count": 54,
   "metadata": {},
   "outputs": [
    {
     "data": {
      "text/plain": [
       "[('dwarf_planet', 0.6102625727653503),\n",
       " ('Pluto_Eris', 0.6097022294998169),\n",
       " ('Uranus', 0.6029965877532959),\n",
       " ('Kuiper_Belt_object', 0.6024353504180908),\n",
       " ('largest_moon_Charon', 0.5959179401397705),\n",
       " ('planets', 0.5946776866912842),\n",
       " ('Clyde_Tombaugh_discovered', 0.587094247341156),\n",
       " ('trans_Neptunian_objects', 0.5707497000694275),\n",
       " ('Gliese_###g', 0.5661783814430237),\n",
       " ('Dwarf_Planet', 0.5642352104187012)]"
      ]
     },
     "execution_count": 54,
     "metadata": {},
     "output_type": "execute_result"
    }
   ],
   "source": [
    "wv.most_similar(\"Pluto\")"
   ]
  },
  {
   "cell_type": "code",
   "execution_count": null,
   "metadata": {},
   "outputs": [
    {
     "data": {
      "text/plain": [
       "[('Kolkata', 0.7663769125938416),\n",
       " ('Mumbai', 0.7306069731712341),\n",
       " ('Lucknow', 0.7277829647064209),\n",
       " ('Patna', 0.7159016728401184),\n",
       " ('Guwahati', 0.7072612643241882),\n",
       " ('Jaipur', 0.6992815136909485),\n",
       " ('Hyderabad', 0.6983195543289185),\n",
       " ('Ranchi', 0.6962575912475586),\n",
       " ('Bhubaneswar', 0.6959235072135925),\n",
       " ('Chandigarh', 0.6940240263938904)]"
      ]
     },
     "execution_count": 56,
     "metadata": {},
     "output_type": "execute_result"
    }
   ],
   "source": [
    "wv.most_similar(\"New Delhi\")\n",
    "#wv.most_similar(\"Delhi\")"
   ]
  },
  {
   "cell_type": "code",
   "execution_count": 14,
   "metadata": {},
   "outputs": [
    {
     "data": {
      "text/plain": [
       "[('queen', 0.7118193507194519),\n",
       " ('monarch', 0.6189674139022827),\n",
       " ('princess', 0.5902431011199951),\n",
       " ('crown_prince', 0.5499460697174072),\n",
       " ('prince', 0.5377321839332581),\n",
       " ('kings', 0.5236844420433044),\n",
       " ('Queen_Consort', 0.5235945582389832),\n",
       " ('queens', 0.5181134343147278),\n",
       " ('sultan', 0.5098593831062317),\n",
       " ('monarchy', 0.5087411999702454)]"
      ]
     },
     "execution_count": 14,
     "metadata": {},
     "output_type": "execute_result"
    }
   ],
   "source": [
    "wv.most_similar(positive=[\"king\",\"woman\"],negative=[\"man\"])"
   ]
  },
  {
   "cell_type": "code",
   "execution_count": 16,
   "metadata": {},
   "outputs": [
    {
     "data": {
      "text/plain": [
       "[('queen', 0.4270784556865692),\n",
       " ('monarch', 0.357193261384964),\n",
       " ('monarchy', 0.3506273329257965),\n",
       " ('Queen_Consort', 0.3480270504951477),\n",
       " ('royal_palace', 0.34065285325050354),\n",
       " ('HRH_Princess', 0.33515337109565735),\n",
       " ('queendom', 0.3289285898208618),\n",
       " ('thrones', 0.32843509316444397),\n",
       " ('queens', 0.32829663157463074),\n",
       " ('kingdom', 0.32163041830062866)]"
      ]
     },
     "execution_count": 16,
     "metadata": {},
     "output_type": "execute_result"
    }
   ],
   "source": [
    "wv.most_similar(positive=[\"king\",\"woman\"],negative=[\"man\",\"boy\"])"
   ]
  },
  {
   "cell_type": "code",
   "execution_count": 24,
   "metadata": {},
   "outputs": [
    {
     "data": {
      "text/plain": [
       "'Sketch'"
      ]
     },
     "execution_count": 24,
     "metadata": {},
     "output_type": "execute_result"
    }
   ],
   "source": [
    "wv.most_similar_to_given(\"Pen\",[\"Drawing\",\"Canvas\",\"Sketch\",\"Water\",\"Stock\"])"
   ]
  },
  {
   "cell_type": "code",
   "execution_count": 27,
   "metadata": {},
   "outputs": [
    {
     "data": {
      "text/plain": [
       "['Mightier_Than',\n",
       " 'Tracey_Carlough_Abrams',\n",
       " 'Anoto_Digital',\n",
       " 'TM_Stain_Remover',\n",
       " 'Wacom_6D_Art']"
      ]
     },
     "execution_count": 27,
     "metadata": {},
     "output_type": "execute_result"
    }
   ],
   "source": [
    "wv.closer_than(key1=\"Pen\",key2=\"Pencil\")"
   ]
  },
  {
   "cell_type": "code",
   "execution_count": 3,
   "metadata": {},
   "outputs": [],
   "source": [
    "kv = wv.get_vector (key=\"king\")\n",
    "mv = wv.get_vector(key=\"man\")\n",
    "fv = wv.get_vector(key=\"woman\")\n",
    "qvc = kv - mv + fv\n",
    "qv = wv.get_vector(key=\"queen\")\n"
   ]
  },
  {
   "cell_type": "code",
   "execution_count": 6,
   "metadata": {},
   "outputs": [
    {
     "data": {
      "text/plain": [
       "array([0.7300518], dtype=float32)"
      ]
     },
     "execution_count": 6,
     "metadata": {},
     "output_type": "execute_result"
    }
   ],
   "source": [
    "wv.cosine_similarities(qv,[qvc])"
   ]
  }
 ],
 "metadata": {
  "kernelspec": {
   "display_name": "Python 3",
   "language": "python",
   "name": "python3"
  },
  "language_info": {
   "codemirror_mode": {
    "name": "ipython",
    "version": 3
   },
   "file_extension": ".py",
   "mimetype": "text/x-python",
   "name": "python",
   "nbconvert_exporter": "python",
   "pygments_lexer": "ipython3",
   "version": "3.12.8"
  }
 },
 "nbformat": 4,
 "nbformat_minor": 2
}
